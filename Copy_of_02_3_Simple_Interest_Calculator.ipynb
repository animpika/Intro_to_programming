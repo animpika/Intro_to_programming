{
  "cells": [
    {
      "cell_type": "markdown",
      "metadata": {
        "id": "view-in-github",
        "colab_type": "text"
      },
      "source": [
        "<a href=\"https://colab.research.google.com/github/animpika/Intro_to_programming/blob/main/Copy_of_02_3_Simple_Interest_Calculator.ipynb\" target=\"_parent\"><img src=\"https://colab.research.google.com/assets/colab-badge.svg\" alt=\"Open In Colab\"/></a>"
      ]
    },
    {
      "cell_type": "markdown",
      "id": "b7a42e71-7361-4878-a06f-0fc857db581f",
      "metadata": {
        "id": "b7a42e71-7361-4878-a06f-0fc857db581f"
      },
      "source": [
        "# Simple Interest Calculator\n",
        "\n",
        "The process of problem solving we will use can be broken down into 5 key steps:\n",
        "1. State the problem clearly\n",
        "2. Describe the input and output information\n",
        "3. Work the problem by hand\n",
        "4. Develop an algorithm (and convert to python) \n",
        "5. Test solution with a variety of data\n",
        "\n",
        "\n",
        "### 1. State Problem Clearly\n",
        "\n",
        "Simple interest in a bank is given by the formula:\n",
        "\n",
        "    Simple Interest = (Ammount Borrowed  x  Interest Rate * years) / 100\n",
        "    \n",
        "\n",
        "### 2. Describe Inputs/Outputs\n",
        "\n",
        "\n",
        "| input | processing | output|\n",
        "|-------|------------|-------|\n",
        "| Amount Borowed |    | Simple Interest |\n",
        "| Interest Rate | | |\n",
        "| Loan Period | | | \n",
        "\n",
        "### 3. Work the problem by hand\n",
        "\n",
        "Borrowed $10,000\n",
        "Interest Rate of 2%\n",
        "Lenghtof loan is 5 years\n",
        "\n",
        "\n",
        "Simple interest \n",
        "=  (10,000 * 2 * 5) / 100\n",
        "= 1,000\n",
        "\n",
        "### 4. Develop and algorithm\n",
        "\n",
        "Here is the pseudocode\n",
        "\n",
        "        Get the amount borrowed\n",
        "        Get the interest rate\n",
        "        Get the loan period\n",
        "        let simple interest = (ammount borrowed * interest rate * loan period) / 100\n",
        "        print The total interest on the loan is: simple interest\n"
      ]
    },
    {
      "cell_type": "code",
      "execution_count": null,
      "id": "f9a6e70b-c83a-4513-90d7-3cbcfbf9cde7",
      "metadata": {
        "id": "f9a6e70b-c83a-4513-90d7-3cbcfbf9cde7"
      },
      "outputs": [],
      "source": [
        "# Get the amount borrowed\n",
        "   x = 5000                          \n",
        "# Get the interest rate\n",
        "   y = 5%\n",
        "# Get the loan period\n",
        "    z = 10                 \n",
        "# let simple interest = (ammount borrowed * interest rate * loan period)/100\n",
        " (5000*5*10)/100\n",
        "# print The total interest on the loan is: simple interest\n",
        "2500"
      ]
    },
    {
      "cell_type": "markdown",
      "id": "26e44634-3041-4ffb-acd9-fa11eb36f2df",
      "metadata": {
        "id": "26e44634-3041-4ffb-acd9-fa11eb36f2df"
      },
      "source": [
        "### 5. Test with a variety of data.\n",
        "\n",
        "We could modify the above cell with new data and then run the code.  But rather than type in different values each time, perhaps it easier to be prompted for the infromation.  \n",
        "\n",
        "Write a version that uses the input() function to prompt the user for the required data."
      ]
    },
    {
      "cell_type": "code",
      "execution_count": null,
      "id": "4299ad3d-5672-42fa-bf17-fbf7360e66c5",
      "metadata": {
        "id": "4299ad3d-5672-42fa-bf17-fbf7360e66c5",
        "colab": {
          "base_uri": "https://localhost:8080/",
          "height": 269
        },
        "outputId": "ccc8fab0-8ada-4040-b97d-51c114b4a048"
      },
      "outputs": [
        {
          "name": "stdout",
          "output_type": "stream",
          "text": [
            "Enter your borrowed amount: 5000\n",
            "Enter your interest rate: 10\n",
            "Enter your loan period: 2\n"
          ]
        },
        {
          "output_type": "error",
          "ename": "TypeError",
          "evalue": "ignored",
          "traceback": [
            "\u001b[0;31m---------------------------------------------------------------------------\u001b[0m",
            "\u001b[0;31mTypeError\u001b[0m                                 Traceback (most recent call last)",
            "\u001b[0;32m<ipython-input-4-c33d81e425eb>\u001b[0m in \u001b[0;36m<module>\u001b[0;34m\u001b[0m\n\u001b[1;32m      2\u001b[0m \u001b[0my\u001b[0m \u001b[0;34m=\u001b[0m \u001b[0minput\u001b[0m\u001b[0;34m(\u001b[0m\u001b[0;34m\"Enter your interest rate: \"\u001b[0m\u001b[0;34m)\u001b[0m\u001b[0;34m\u001b[0m\u001b[0;34m\u001b[0m\u001b[0m\n\u001b[1;32m      3\u001b[0m \u001b[0mz\u001b[0m  \u001b[0;34m=\u001b[0m \u001b[0minput\u001b[0m\u001b[0;34m(\u001b[0m\u001b[0;34m\"Enter your loan period: \"\u001b[0m\u001b[0;34m)\u001b[0m\u001b[0;34m\u001b[0m\u001b[0;34m\u001b[0m\u001b[0m\n\u001b[0;32m----> 4\u001b[0;31m \u001b[0msimple_interest\u001b[0m \u001b[0;34m=\u001b[0m \u001b[0;34m(\u001b[0m\u001b[0mx\u001b[0m\u001b[0;34m*\u001b[0m\u001b[0my\u001b[0m\u001b[0;34m*\u001b[0m\u001b[0mz\u001b[0m\u001b[0;34m)\u001b[0m\u001b[0;34m/\u001b[0m\u001b[0;36m100\u001b[0m\u001b[0;34m\u001b[0m\u001b[0;34m\u001b[0m\u001b[0m\n\u001b[0m\u001b[1;32m      5\u001b[0m \u001b[0mprint\u001b[0m\u001b[0;34m(\u001b[0m\u001b[0msimple_interest\u001b[0m\u001b[0;34m)\u001b[0m\u001b[0;34m\u001b[0m\u001b[0;34m\u001b[0m\u001b[0m\n",
            "\u001b[0;31mTypeError\u001b[0m: can't multiply sequence by non-int of type 'str'"
          ]
        }
      ],
      "source": [
        "x = input(\"Enter your borrowed amount: int\")\n",
        "y = input(\"Enter your interest rate: \")\n",
        "z  = input(\"Enter your loan period: \")\n",
        "simple_interest = (x*y*z)/100\n",
        "print(simple_interest)"
      ]
    }
  ],
  "metadata": {
    "colab": {
      "provenance": [],
      "include_colab_link": true
    },
    "kernelspec": {
      "display_name": "Python 3 (ipykernel)",
      "language": "python",
      "name": "python3"
    },
    "language_info": {
      "codemirror_mode": {
        "name": "ipython",
        "version": 3
      },
      "file_extension": ".py",
      "mimetype": "text/x-python",
      "name": "python",
      "nbconvert_exporter": "python",
      "pygments_lexer": "ipython3",
      "version": "3.9.7"
    }
  },
  "nbformat": 4,
  "nbformat_minor": 5
}